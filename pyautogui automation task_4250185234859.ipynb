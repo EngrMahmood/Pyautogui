{
 "cells": [
  {
   "cell_type": "code",
   "execution_count": 3,
   "id": "ff75fe56",
   "metadata": {},
   "outputs": [],
   "source": [
    "import pyautogui"
   ]
  },
  {
   "cell_type": "code",
   "execution_count": 48,
   "id": "be072a25",
   "metadata": {},
   "outputs": [
    {
     "data": {
      "text/plain": [
       "Point(x=566, y=631)"
      ]
     },
     "execution_count": 48,
     "metadata": {},
     "output_type": "execute_result"
    }
   ],
   "source": [
    "pyautogui.position()"
   ]
  },
  {
   "cell_type": "code",
   "execution_count": 75,
   "id": "5d812140",
   "metadata": {},
   "outputs": [],
   "source": [
    "pyautogui.click(x=988, y=17,duration=0)\n",
    "pyautogui.click(x=988+20, y=17+20,duration=1)\n",
    "pyautogui.typewrite(\"https://www.youtube.com/@enggqasim\")\n",
    "pyautogui.typewrite('\\n')\n",
    "pyautogui.moveRel(100,200)\n",
    "pyautogui.click(x=1194, y=245,duration=5)\n",
    "pyautogui.moveRel(10,10,duration=5)\n",
    "pyautogui.scroll(-500)"
   ]
  },
  {
   "cell_type": "code",
   "execution_count": null,
   "id": "bb765038",
   "metadata": {},
   "outputs": [],
   "source": []
  },
  {
   "cell_type": "code",
   "execution_count": null,
   "id": "c5f26c84",
   "metadata": {},
   "outputs": [],
   "source": []
  },
  {
   "cell_type": "code",
   "execution_count": null,
   "id": "4126e24d",
   "metadata": {},
   "outputs": [],
   "source": []
  }
 ],
 "metadata": {
  "kernelspec": {
   "display_name": "Python 3 (ipykernel)",
   "language": "python",
   "name": "python3"
  },
  "language_info": {
   "codemirror_mode": {
    "name": "ipython",
    "version": 3
   },
   "file_extension": ".py",
   "mimetype": "text/x-python",
   "name": "python",
   "nbconvert_exporter": "python",
   "pygments_lexer": "ipython3",
   "version": "3.9.13"
  }
 },
 "nbformat": 4,
 "nbformat_minor": 5
}
